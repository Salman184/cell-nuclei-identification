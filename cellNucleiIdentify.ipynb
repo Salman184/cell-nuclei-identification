{
 "cells": [
  {
   "cell_type": "code",
   "execution_count": 1,
   "metadata": {
    "execution": {
     "iopub.execute_input": "2021-05-23T15:23:12.925383Z",
     "iopub.status.busy": "2021-05-23T15:23:12.924988Z",
     "iopub.status.idle": "2021-05-23T15:23:12.931569Z",
     "shell.execute_reply": "2021-05-23T15:23:12.930505Z",
     "shell.execute_reply.started": "2021-05-23T15:23:12.925350Z"
    }
   },
   "outputs": [],
   "source": [
    "import os\n",
    "import random\n",
    "import numpy as np\n",
    "import pandas as pd\n",
    "from sklearn.metrics import confusion_matrix\n",
    "import matplotlib.pyplot as plt"
   ]
  },
  {
   "cell_type": "code",
   "execution_count": 2,
   "metadata": {},
   "outputs": [],
   "source": [
    "import torch\n",
    "import torch.nn as nn\n",
    "import torch.nn.functional as F\n",
    "from torch.utils.data import DataLoader, Dataset\n",
    "from torch.utils.data.sampler import SubsetRandomSampler\n",
    "from torchvision import datasets, transforms\n",
    "from torchvision.utils import make_grid\n",
    "from torchvision.io import read_image"
   ]
  },
  {
   "cell_type": "markdown",
   "metadata": {},
   "source": [
    "# Creating Training Dataframe"
   ]
  },
  {
   "cell_type": "markdown",
   "metadata": {},
   "source": [
    "**Adding Images and Labels for different Types to the dataframe**"
   ]
  },
  {
   "cell_type": "code",
   "execution_count": 28,
   "metadata": {
    "execution": {
     "iopub.execute_input": "2021-05-23T15:23:12.936553Z",
     "iopub.status.busy": "2021-05-23T15:23:12.936259Z",
     "iopub.status.idle": "2021-05-23T15:23:12.984348Z",
     "shell.execute_reply": "2021-05-23T15:23:12.983290Z",
     "shell.execute_reply.started": "2021-05-23T15:23:12.936525Z"
    }
   },
   "outputs": [
    {
     "data": {
      "text/html": [
       "<div>\n",
       "<style scoped>\n",
       "    .dataframe tbody tr th:only-of-type {\n",
       "        vertical-align: middle;\n",
       "    }\n",
       "\n",
       "    .dataframe tbody tr th {\n",
       "        vertical-align: top;\n",
       "    }\n",
       "\n",
       "    .dataframe thead th {\n",
       "        text-align: right;\n",
       "    }\n",
       "</style>\n",
       "<table border=\"1\" class=\"dataframe\">\n",
       "  <thead>\n",
       "    <tr style=\"text-align: right;\">\n",
       "      <th></th>\n",
       "      <th>Id</th>\n",
       "      <th>Image</th>\n",
       "      <th>Type</th>\n",
       "      <th>Labels</th>\n",
       "    </tr>\n",
       "  </thead>\n",
       "  <tbody>\n",
       "    <tr>\n",
       "      <th>0</th>\n",
       "      <td>1</td>\n",
       "      <td>1.png</td>\n",
       "      <td>Connective</td>\n",
       "      <td>1</td>\n",
       "    </tr>\n",
       "    <tr>\n",
       "      <th>1</th>\n",
       "      <td>2</td>\n",
       "      <td>2.png</td>\n",
       "      <td>Connective</td>\n",
       "      <td>1</td>\n",
       "    </tr>\n",
       "    <tr>\n",
       "      <th>2</th>\n",
       "      <td>3</td>\n",
       "      <td>3.png</td>\n",
       "      <td>Connective</td>\n",
       "      <td>1</td>\n",
       "    </tr>\n",
       "    <tr>\n",
       "      <th>3</th>\n",
       "      <td>4</td>\n",
       "      <td>4.png</td>\n",
       "      <td>Connective</td>\n",
       "      <td>1</td>\n",
       "    </tr>\n",
       "    <tr>\n",
       "      <th>4</th>\n",
       "      <td>5</td>\n",
       "      <td>5.png</td>\n",
       "      <td>Connective</td>\n",
       "      <td>1</td>\n",
       "    </tr>\n",
       "    <tr>\n",
       "      <th>...</th>\n",
       "      <td>...</td>\n",
       "      <td>...</td>\n",
       "      <td>...</td>\n",
       "      <td>...</td>\n",
       "    </tr>\n",
       "    <tr>\n",
       "      <th>2185</th>\n",
       "      <td>2186</td>\n",
       "      <td>2186.png</td>\n",
       "      <td>Immune</td>\n",
       "      <td>2</td>\n",
       "    </tr>\n",
       "    <tr>\n",
       "      <th>2186</th>\n",
       "      <td>2187</td>\n",
       "      <td>2187.png</td>\n",
       "      <td>Cancer</td>\n",
       "      <td>0</td>\n",
       "    </tr>\n",
       "    <tr>\n",
       "      <th>2187</th>\n",
       "      <td>2188</td>\n",
       "      <td>2188.png</td>\n",
       "      <td>Connective</td>\n",
       "      <td>1</td>\n",
       "    </tr>\n",
       "    <tr>\n",
       "      <th>2188</th>\n",
       "      <td>2189</td>\n",
       "      <td>2189.png</td>\n",
       "      <td>Connective</td>\n",
       "      <td>1</td>\n",
       "    </tr>\n",
       "    <tr>\n",
       "      <th>2189</th>\n",
       "      <td>2190</td>\n",
       "      <td>2190.png</td>\n",
       "      <td>Immune</td>\n",
       "      <td>2</td>\n",
       "    </tr>\n",
       "  </tbody>\n",
       "</table>\n",
       "<p>2190 rows × 4 columns</p>\n",
       "</div>"
      ],
      "text/plain": [
       "        Id     Image         Type  Labels\n",
       "0        1     1.png   Connective       1\n",
       "1        2     2.png   Connective       1\n",
       "2        3     3.png   Connective       1\n",
       "3        4     4.png   Connective       1\n",
       "4        5     5.png   Connective       1\n",
       "...    ...       ...          ...     ...\n",
       "2185  2186  2186.png       Immune       2\n",
       "2186  2187  2187.png       Cancer       0\n",
       "2187  2188  2188.png   Connective       1\n",
       "2188  2189  2189.png   Connective       1\n",
       "2189  2190  2190.png       Immune       2\n",
       "\n",
       "[2190 rows x 4 columns]"
      ]
     },
     "execution_count": 28,
     "metadata": {},
     "output_type": "execute_result"
    }
   ],
   "source": [
    "path = './'\n",
    "train_df = pd.read_csv(path + 'train.csv')\n",
    "train_df['Image'] = train_df['Id'].astype(str) + '.png'\n",
    "train_df = train_df[train_df.columns[[0, 2, 1]]]\n",
    "train_df['Type'] = train_df['Type'].astype('category')\n",
    "train_df['Labels'] = train_df['Type'].cat.codes\n",
    "train_df"
   ]
  },
  {
   "cell_type": "markdown",
   "metadata": {},
   "source": [
    "**Initial Count of different types in the dataframe**"
   ]
  },
  {
   "cell_type": "code",
   "execution_count": 29,
   "metadata": {
    "execution": {
     "iopub.execute_input": "2021-05-23T15:23:12.986203Z",
     "iopub.status.busy": "2021-05-23T15:23:12.985913Z",
     "iopub.status.idle": "2021-05-23T15:23:12.993383Z",
     "shell.execute_reply": "2021-05-23T15:23:12.992718Z",
     "shell.execute_reply.started": "2021-05-23T15:23:12.986165Z"
    }
   },
   "outputs": [
    {
     "data": {
      "text/plain": [
       " Immune        729\n",
       " Connective    726\n",
       " Cancer        546\n",
       " Normal        189\n",
       "Name: Type, dtype: int64"
      ]
     },
     "execution_count": 29,
     "metadata": {},
     "output_type": "execute_result"
    }
   ],
   "source": [
    "train_df['Type'].value_counts()"
   ]
  },
  {
   "cell_type": "markdown",
   "metadata": {},
   "source": [
    "# Balancing the Training data in the dataframe"
   ]
  },
  {
   "cell_type": "markdown",
   "metadata": {},
   "source": [
    "**Doubling the Normal type image data in the dataframe**"
   ]
  },
  {
   "cell_type": "code",
   "execution_count": 30,
   "metadata": {
    "execution": {
     "iopub.execute_input": "2021-05-23T15:23:12.995176Z",
     "iopub.status.busy": "2021-05-23T15:23:12.994775Z",
     "iopub.status.idle": "2021-05-23T15:23:13.686235Z",
     "shell.execute_reply": "2021-05-23T15:23:13.685185Z",
     "shell.execute_reply.started": "2021-05-23T15:23:12.995144Z"
    }
   },
   "outputs": [
    {
     "data": {
      "text/html": [
       "<div>\n",
       "<style scoped>\n",
       "    .dataframe tbody tr th:only-of-type {\n",
       "        vertical-align: middle;\n",
       "    }\n",
       "\n",
       "    .dataframe tbody tr th {\n",
       "        vertical-align: top;\n",
       "    }\n",
       "\n",
       "    .dataframe thead th {\n",
       "        text-align: right;\n",
       "    }\n",
       "</style>\n",
       "<table border=\"1\" class=\"dataframe\">\n",
       "  <thead>\n",
       "    <tr style=\"text-align: right;\">\n",
       "      <th></th>\n",
       "      <th>Id</th>\n",
       "      <th>Image</th>\n",
       "      <th>Type</th>\n",
       "      <th>Labels</th>\n",
       "    </tr>\n",
       "  </thead>\n",
       "  <tbody>\n",
       "    <tr>\n",
       "      <th>0</th>\n",
       "      <td>1</td>\n",
       "      <td>1.png</td>\n",
       "      <td>Connective</td>\n",
       "      <td>1</td>\n",
       "    </tr>\n",
       "    <tr>\n",
       "      <th>1</th>\n",
       "      <td>2</td>\n",
       "      <td>2.png</td>\n",
       "      <td>Connective</td>\n",
       "      <td>1</td>\n",
       "    </tr>\n",
       "    <tr>\n",
       "      <th>2</th>\n",
       "      <td>3</td>\n",
       "      <td>3.png</td>\n",
       "      <td>Connective</td>\n",
       "      <td>1</td>\n",
       "    </tr>\n",
       "    <tr>\n",
       "      <th>3</th>\n",
       "      <td>4</td>\n",
       "      <td>4.png</td>\n",
       "      <td>Connective</td>\n",
       "      <td>1</td>\n",
       "    </tr>\n",
       "    <tr>\n",
       "      <th>4</th>\n",
       "      <td>5</td>\n",
       "      <td>5.png</td>\n",
       "      <td>Connective</td>\n",
       "      <td>1</td>\n",
       "    </tr>\n",
       "    <tr>\n",
       "      <th>...</th>\n",
       "      <td>...</td>\n",
       "      <td>...</td>\n",
       "      <td>...</td>\n",
       "      <td>...</td>\n",
       "    </tr>\n",
       "    <tr>\n",
       "      <th>2374</th>\n",
       "      <td>2375</td>\n",
       "      <td>2086.png</td>\n",
       "      <td>Normal</td>\n",
       "      <td>3</td>\n",
       "    </tr>\n",
       "    <tr>\n",
       "      <th>2375</th>\n",
       "      <td>2376</td>\n",
       "      <td>2108.png</td>\n",
       "      <td>Normal</td>\n",
       "      <td>3</td>\n",
       "    </tr>\n",
       "    <tr>\n",
       "      <th>2376</th>\n",
       "      <td>2377</td>\n",
       "      <td>2169.png</td>\n",
       "      <td>Normal</td>\n",
       "      <td>3</td>\n",
       "    </tr>\n",
       "    <tr>\n",
       "      <th>2377</th>\n",
       "      <td>2378</td>\n",
       "      <td>2175.png</td>\n",
       "      <td>Normal</td>\n",
       "      <td>3</td>\n",
       "    </tr>\n",
       "    <tr>\n",
       "      <th>2378</th>\n",
       "      <td>2379</td>\n",
       "      <td>2176.png</td>\n",
       "      <td>Normal</td>\n",
       "      <td>3</td>\n",
       "    </tr>\n",
       "  </tbody>\n",
       "</table>\n",
       "<p>2379 rows × 4 columns</p>\n",
       "</div>"
      ],
      "text/plain": [
       "        Id     Image         Type  Labels\n",
       "0        1     1.png   Connective       1\n",
       "1        2     2.png   Connective       1\n",
       "2        3     3.png   Connective       1\n",
       "3        4     4.png   Connective       1\n",
       "4        5     5.png   Connective       1\n",
       "...    ...       ...          ...     ...\n",
       "2374  2375  2086.png       Normal       3\n",
       "2375  2376  2108.png       Normal       3\n",
       "2376  2377  2169.png       Normal       3\n",
       "2377  2378  2175.png       Normal       3\n",
       "2378  2379  2176.png       Normal       3\n",
       "\n",
       "[2379 rows x 4 columns]"
      ]
     },
     "execution_count": 30,
     "metadata": {},
     "output_type": "execute_result"
    }
   ],
   "source": [
    "normal_images = train_df.loc[train_df['Type'].values == ' Normal', 'Image']\n",
    "last_id = train_df.iloc[-1]['Id'] + 1\n",
    "j = 0\n",
    "for i in range(len(normal_images)):\n",
    "    if i % len(normal_images) == 0:\n",
    "        j = 0\n",
    "    train_df.loc[len(train_df.index)] = [last_id + i, normal_images.iloc[j], ' Normal', 3]\n",
    "    j = j + 1\n",
    "train_df"
   ]
  },
  {
   "cell_type": "markdown",
   "metadata": {},
   "source": [
    "**Final count of different types after balancing the training data**"
   ]
  },
  {
   "cell_type": "code",
   "execution_count": 31,
   "metadata": {
    "execution": {
     "iopub.execute_input": "2021-05-23T15:23:13.688279Z",
     "iopub.status.busy": "2021-05-23T15:23:13.687964Z",
     "iopub.status.idle": "2021-05-23T15:23:13.695221Z",
     "shell.execute_reply": "2021-05-23T15:23:13.694295Z",
     "shell.execute_reply.started": "2021-05-23T15:23:13.688248Z"
    }
   },
   "outputs": [
    {
     "data": {
      "text/plain": [
       " Immune        729\n",
       " Connective    726\n",
       " Cancer        546\n",
       " Normal        378\n",
       "Name: Type, dtype: int64"
      ]
     },
     "execution_count": 31,
     "metadata": {},
     "output_type": "execute_result"
    }
   ],
   "source": [
    "train_df['Type'].value_counts()"
   ]
  },
  {
   "cell_type": "markdown",
   "metadata": {},
   "source": [
    "# Class for Creating the Training Dataset"
   ]
  },
  {
   "cell_type": "code",
   "execution_count": 32,
   "metadata": {
    "execution": {
     "iopub.execute_input": "2021-05-23T15:23:13.697107Z",
     "iopub.status.busy": "2021-05-23T15:23:13.696571Z",
     "iopub.status.idle": "2021-05-23T15:23:13.710379Z",
     "shell.execute_reply": "2021-05-23T15:23:13.709147Z",
     "shell.execute_reply.started": "2021-05-23T15:23:13.697064Z"
    }
   },
   "outputs": [],
   "source": [
    "class CustomImageDataset(Dataset):\n",
    "    def __init__(self, data_frame, image_dir, transform=None):\n",
    "        self.data_frame = data_frame\n",
    "        self.image_dir = image_dir\n",
    "        self.transform = transform\n",
    "\n",
    "    def __len__(self):\n",
    "        return len(self.data_frame)\n",
    "\n",
    "    def __getitem__(self, idx):\n",
    "        if torch.is_tensor(idx):\n",
    "            idx = idx.tolist()\n",
    "        image_name  = os.path.join(self.image_dir, self.data_frame.iloc[idx, 1])\n",
    "        images = read_image(image_name)\n",
    "        labels = torch.from_numpy(np.array(self.data_frame.iloc[idx, -1])).long()\n",
    "        images = images.type(torch.FloatTensor)\n",
    "        images = images / 255.0\n",
    "        if self.transform:\n",
    "            images = self.transform(images)\n",
    "            \n",
    "        return (images, labels)"
   ]
  },
  {
   "cell_type": "markdown",
   "metadata": {},
   "source": [
    "# Data Augmentation"
   ]
  },
  {
   "cell_type": "code",
   "execution_count": 33,
   "metadata": {
    "execution": {
     "iopub.execute_input": "2021-05-23T15:23:13.712200Z",
     "iopub.status.busy": "2021-05-23T15:23:13.711637Z",
     "iopub.status.idle": "2021-05-23T15:23:13.723596Z",
     "shell.execute_reply": "2021-05-23T15:23:13.722657Z",
     "shell.execute_reply.started": "2021-05-23T15:23:13.712161Z"
    }
   },
   "outputs": [],
   "source": [
    "train_transform = transforms.Compose([\n",
    "        transforms.ToPILImage(),\n",
    "        transforms.RandomRotation(10),\n",
    "        transforms.RandomHorizontalFlip(),\n",
    "        transforms.RandomAffine(0, shear=8, scale=(0.8,1.2)),\n",
    "        transforms.ColorJitter(brightness=0.2, contrast=0.2, saturation=0.2),\n",
    "        transforms.ToTensor(),\n",
    "        transforms.Normalize([0.485, 0.456, 0.406],\n",
    "                             [0.229, 0.224, 0.225])\n",
    "    ])\n",
    "\n",
    "test_transform = transforms.Compose([\n",
    "        transforms.ToTensor(),\n",
    "        transforms.Normalize([0.485, 0.456, 0.406],\n",
    "                             [0.229, 0.224, 0.225])\n",
    "    ])"
   ]
  },
  {
   "cell_type": "markdown",
   "metadata": {},
   "source": [
    "# Creating Training Dataset"
   ]
  },
  {
   "cell_type": "code",
   "execution_count": 34,
   "metadata": {
    "execution": {
     "iopub.execute_input": "2021-05-23T15:23:13.725044Z",
     "iopub.status.busy": "2021-05-23T15:23:13.724798Z",
     "iopub.status.idle": "2021-05-23T15:23:13.744691Z",
     "shell.execute_reply": "2021-05-23T15:23:13.743771Z",
     "shell.execute_reply.started": "2021-05-23T15:23:13.725020Z"
    }
   },
   "outputs": [],
   "source": [
    "train_dataset = CustomImageDataset(\n",
    "    data_frame = train_df,\n",
    "    image_dir = path + 'train/train',\n",
    "    transform = train_transform\n",
    ")"
   ]
  },
  {
   "cell_type": "markdown",
   "metadata": {},
   "source": [
    "# Creating Train Loader and Test Loader by splitting Training Dataset "
   ]
  },
  {
   "cell_type": "code",
   "execution_count": 35,
   "metadata": {
    "execution": {
     "iopub.execute_input": "2021-05-23T15:23:13.748178Z",
     "iopub.status.busy": "2021-05-23T15:23:13.747527Z",
     "iopub.status.idle": "2021-05-23T15:23:13.762274Z",
     "shell.execute_reply": "2021-05-23T15:23:13.761200Z",
     "shell.execute_reply.started": "2021-05-23T15:23:13.748130Z"
    }
   },
   "outputs": [],
   "source": [
    "batch_size = 10\n",
    "test_split = .2\n",
    "shuffle_dataset = True\n",
    "random_seed= 42\n",
    "\n",
    "dataset_size = len(train_dataset)\n",
    "indices = list(range(dataset_size))\n",
    "split = int(np.floor(test_split * dataset_size))\n",
    "if shuffle_dataset :\n",
    "    np.random.seed(random_seed)\n",
    "    np.random.shuffle(indices)\n",
    "train_indices, test_indices = indices[split:], indices[:split]\n",
    "\n",
    "train_sampler = SubsetRandomSampler(train_indices)\n",
    "test_sampler = SubsetRandomSampler(test_indices)\n",
    "\n",
    "train_loader = torch.utils.data.DataLoader(train_dataset, batch_size=batch_size, sampler=train_sampler)\n",
    "test_loader = torch.utils.data.DataLoader(train_dataset, batch_size=batch_size, sampler=test_sampler)"
   ]
  },
  {
   "cell_type": "markdown",
   "metadata": {},
   "source": [
    "# Model Architecture"
   ]
  },
  {
   "cell_type": "code",
   "execution_count": 36,
   "metadata": {
    "execution": {
     "iopub.execute_input": "2021-05-23T15:23:13.764281Z",
     "iopub.status.busy": "2021-05-23T15:23:13.763733Z",
     "iopub.status.idle": "2021-05-23T15:23:13.778150Z",
     "shell.execute_reply": "2021-05-23T15:23:13.777182Z",
     "shell.execute_reply.started": "2021-05-23T15:23:13.764248Z"
    }
   },
   "outputs": [],
   "source": [
    "class cnNetwork(nn.Module):\n",
    "    def __init__(self):\n",
    "        super().__init__()\n",
    "        self.conv1 = nn.Conv2d(3, 16, 5, 1, 2)\n",
    "        self.conv2 = nn.Conv2d(16, 32, 5, 1, 2)\n",
    "        self.conv3 = nn.Conv2d(32, 64, 5, 1, 2)\n",
    "        self.fc1 = nn.Linear(8*8*64, 120)\n",
    "        self.fc2 = nn.Linear(120, 84)\n",
    "        self.fc3 = nn.Linear(84, 4)\n",
    "        \n",
    "    def forward(self, x):\n",
    "        x = F.relu(self.conv1(x))\n",
    "        x = F.max_pool2d(x, 2, 2)\n",
    "        x = F.relu(self.conv2(x))\n",
    "        x = F.max_pool2d(x, 2, 2)\n",
    "        x = F.relu(self.conv3(x))\n",
    "        x = F.max_pool2d(x, 2, 2)\n",
    "        x = x.view(-1, 8*8*64)\n",
    "        x = F.relu(self.fc1(x))\n",
    "        x = F.relu(self.fc2(x))\n",
    "        x = self.fc3(x)\n",
    "        return x"
   ]
  },
  {
   "cell_type": "markdown",
   "metadata": {},
   "source": [
    "# Creating Loss Function and Optimzer"
   ]
  },
  {
   "cell_type": "code",
   "execution_count": 37,
   "metadata": {
    "execution": {
     "iopub.execute_input": "2021-05-23T15:23:13.779924Z",
     "iopub.status.busy": "2021-05-23T15:23:13.779587Z",
     "iopub.status.idle": "2021-05-23T15:23:13.810030Z",
     "shell.execute_reply": "2021-05-23T15:23:13.809019Z",
     "shell.execute_reply.started": "2021-05-23T15:23:13.779890Z"
    }
   },
   "outputs": [
    {
     "data": {
      "text/plain": [
       "cnNetwork(\n",
       "  (conv1): Conv2d(3, 16, kernel_size=(5, 5), stride=(1, 1), padding=(2, 2))\n",
       "  (conv2): Conv2d(16, 32, kernel_size=(5, 5), stride=(1, 1), padding=(2, 2))\n",
       "  (conv3): Conv2d(32, 64, kernel_size=(5, 5), stride=(1, 1), padding=(2, 2))\n",
       "  (fc1): Linear(in_features=4096, out_features=120, bias=True)\n",
       "  (fc2): Linear(in_features=120, out_features=84, bias=True)\n",
       "  (fc3): Linear(in_features=84, out_features=4, bias=True)\n",
       ")"
      ]
     },
     "execution_count": 37,
     "metadata": {},
     "output_type": "execute_result"
    }
   ],
   "source": [
    "torch.manual_seed(101)\n",
    "cnnModel = cnNetwork()\n",
    "criterion = nn.CrossEntropyLoss()\n",
    "optimizer = torch.optim.Adam(cnnModel.parameters(), lr=0.001)\n",
    "cnnModel"
   ]
  },
  {
   "cell_type": "markdown",
   "metadata": {},
   "source": [
    "# Training the Model"
   ]
  },
  {
   "cell_type": "code",
   "execution_count": 38,
   "metadata": {
    "execution": {
     "iopub.execute_input": "2021-05-23T15:23:13.811947Z",
     "iopub.status.busy": "2021-05-23T15:23:13.811211Z",
     "iopub.status.idle": "2021-05-23T15:25:50.167543Z",
     "shell.execute_reply": "2021-05-23T15:25:50.166502Z",
     "shell.execute_reply.started": "2021-05-23T15:23:13.811900Z"
    }
   },
   "outputs": [
    {
     "name": "stdout",
     "output_type": "stream",
     "text": [
      "Epoch:0 \t Loss:1.14199448 \t Train accuracy: 38.848%\n",
      "Epoch:1 \t Loss:1.03242111 \t Train accuracy: 52.723%\n",
      "Epoch:2 \t Loss:0.59395438 \t Train accuracy: 61.780%\n",
      "Epoch:3 \t Loss:1.13437891 \t Train accuracy: 66.859%\n",
      "Epoch:4 \t Loss:0.92975032 \t Train accuracy: 67.173%\n",
      "Epoch:5 \t Loss:0.61689836 \t Train accuracy: 70.052%\n",
      "Epoch:6 \t Loss:1.32511437 \t Train accuracy: 71.990%\n",
      "Epoch:7 \t Loss:0.15233302 \t Train accuracy: 72.984%\n",
      "Epoch:8 \t Loss:0.66413653 \t Train accuracy: 73.979%\n",
      "Epoch:9 \t Loss:0.32157385 \t Train accuracy: 76.387%\n",
      "Epoch:10 \t Loss:0.61243749 \t Train accuracy: 75.812%\n",
      "Epoch:11 \t Loss:0.55644965 \t Train accuracy: 78.586%\n",
      "\n",
      "Duration: 303 seconds\n"
     ]
    }
   ],
   "source": [
    "import time\n",
    "start_time = time.time()\n",
    "\n",
    "epochs = 12\n",
    "\n",
    "train_losses = []\n",
    "test_losses = []\n",
    "train_correct = []\n",
    "test_correct = []\n",
    "\n",
    "for i in range(epochs):\n",
    "    correct_train_values = 0\n",
    "    correct_test_values = 0\n",
    "    \n",
    "    for b, (X_train, y_train) in enumerate(train_loader):\n",
    "        b = b + 1\n",
    "       \n",
    "        y_pred = cnnModel(X_train)\n",
    "        loss = criterion(y_pred, y_train)\n",
    "        train_predict = torch.max(y_pred.data, 1)[1]\n",
    "        correct_train_values += (train_predict == y_train).sum()\n",
    "        \n",
    "        optimizer.zero_grad()\n",
    "        loss.backward()\n",
    "        optimizer.step()\n",
    "        \n",
    "    train_losses.append(loss)\n",
    "    train_correct.append(correct_train_values)\n",
    "    print(f'Epoch:{i} \\t Loss:{loss.item():10.8f} \\t Train accuracy:{correct_train_values.item()*100/(batch_size*len(train_loader)):7.3f}%')\n",
    "        \n",
    "    with torch.no_grad():\n",
    "        for b, (X_test, y_test) in enumerate(test_loader):\n",
    "            y_val = cnnModel(X_test)\n",
    "            test_predict = torch.max(y_val.data, 1)[1] \n",
    "            correct_test_values += (test_predict == y_test).sum()\n",
    "            \n",
    "    loss = criterion(y_val, y_test)\n",
    "    test_losses.append(loss)\n",
    "    test_correct.append(correct_test_values)\n",
    "\n",
    "print(f'\\nDuration: {time.time() - start_time:.0f} seconds')"
   ]
  },
  {
   "cell_type": "markdown",
   "metadata": {},
   "source": [
    "# Plotting Training and Test Loss"
   ]
  },
  {
   "cell_type": "code",
   "execution_count": 62,
   "metadata": {
    "execution": {
     "iopub.execute_input": "2021-05-23T15:25:50.169095Z",
     "iopub.status.busy": "2021-05-23T15:25:50.168819Z",
     "iopub.status.idle": "2021-05-23T15:25:50.307797Z",
     "shell.execute_reply": "2021-05-23T15:25:50.306993Z",
     "shell.execute_reply.started": "2021-05-23T15:25:50.169066Z"
    }
   },
   "outputs": [
    {
     "data": {
      "image/png": "[encoded data removed]",
      "text/plain": [
       "<Figure size 432x288 with 1 Axes>"
      ]
     },
     "metadata": {
      "needs_background": "light"
     },
     "output_type": "display_data"
    }
   ],
   "source": [
    "trainLosses = [train_loss.detach().numpy() for train_loss in train_losses]\n",
    "testLosses = [test_loss.detach().numpy() for test_loss in test_losses]\n",
    "plt.plot(trainLosses, label='training loss')\n",
    "plt.plot(testLosses, label='test loss')\n",
    "plt.title('Loss at each epoch')\n",
    "plt.xlabel('Epochs')\n",
    "plt.ylabel('Loss')\n",
    "plt.legend();"
   ]
  },
  {
   "cell_type": "markdown",
   "metadata": {},
   "source": [
    "# Plotting Training and Test Accuracy"
   ]
  },
  {
   "cell_type": "code",
   "execution_count": 61,
   "metadata": {
    "execution": {
     "iopub.execute_input": "2021-05-23T15:25:50.309232Z",
     "iopub.status.busy": "2021-05-23T15:25:50.308825Z",
     "iopub.status.idle": "2021-05-23T15:25:50.463211Z",
     "shell.execute_reply": "2021-05-23T15:25:50.462060Z",
     "shell.execute_reply.started": "2021-05-23T15:25:50.309191Z"
    }
   },
   "outputs": [
    {
     "data": {
      "image/png": "[encoded data removed]",
      "text/plain": [
       "<Figure size 432x288 with 1 Axes>"
      ]
     },
     "metadata": {
      "needs_background": "light"
     },
     "output_type": "display_data"
    }
   ],
   "source": [
    "plt.plot([t/(len(train_loader)*batch_size/100) for t in train_correct], label='training accuracy')\n",
    "plt.plot([t/(len(test_loader)*batch_size/100) for t in test_correct], label='test accuracy')\n",
    "plt.title('Accuracy at each epoch')\n",
    "plt.xlabel('Epochs')\n",
    "plt.ylabel('Accuracy Percentage')\n",
    "plt.legend();"
   ]
  },
  {
   "cell_type": "markdown",
   "metadata": {},
   "source": [
    "**Test Accuracy of the Model**"
   ]
  },
  {
   "cell_type": "code",
   "execution_count": 55,
   "metadata": {
    "execution": {
     "iopub.execute_input": "2021-05-23T15:25:50.464789Z",
     "iopub.status.busy": "2021-05-23T15:25:50.464476Z",
     "iopub.status.idle": "2021-05-23T15:25:50.478726Z",
     "shell.execute_reply": "2021-05-23T15:25:50.477418Z",
     "shell.execute_reply.started": "2021-05-23T15:25:50.464750Z"
    }
   },
   "outputs": [
    {
     "name": "stdout",
     "output_type": "stream",
     "text": [
      "[tensor(204), tensor(277), tensor(302), tensor(324), tensor(330), tensor(322), tensor(341), tensor(327), tensor(338), tensor(325), tensor(330), tensor(361)]\n",
      "Test accuracy: 75.208%\n"
     ]
    }
   ],
   "source": [
    "print(test_correct)\n",
    "print(f'Test accuracy: {test_correct[-1].item()*100/(batch_size*len(test_loader)):.3f}%')"
   ]
  },
  {
   "cell_type": "markdown",
   "metadata": {},
   "source": [
    "# Validating the given Test Dataset"
   ]
  },
  {
   "cell_type": "code",
   "execution_count": 56,
   "metadata": {
    "execution": {
     "iopub.execute_input": "2021-05-23T15:25:50.480827Z",
     "iopub.status.busy": "2021-05-23T15:25:50.480330Z",
     "iopub.status.idle": "2021-05-23T15:25:50.499626Z",
     "shell.execute_reply": "2021-05-23T15:25:50.498477Z",
     "shell.execute_reply.started": "2021-05-23T15:25:50.480784Z"
    }
   },
   "outputs": [],
   "source": [
    "root = './'\n",
    "valid_dataset = datasets.ImageFolder(os.path.join(root, 'test'), transform=test_transform)\n",
    "\n",
    "torch.manual_seed(42)\n",
    "valid_loader = DataLoader(valid_dataset, batch_size=batch_size, shuffle=False)"
   ]
  },
  {
   "cell_type": "markdown",
   "metadata": {},
   "source": [
    "# Creating the Predicted Test Data in the CSV file "
   ]
  },
  {
   "cell_type": "code",
   "execution_count": 57,
   "metadata": {
    "execution": {
     "iopub.execute_input": "2021-05-23T15:25:50.501289Z",
     "iopub.status.busy": "2021-05-23T15:25:50.500967Z",
     "iopub.status.idle": "2021-05-23T15:25:51.660612Z",
     "shell.execute_reply": "2021-05-23T15:25:51.659669Z",
     "shell.execute_reply.started": "2021-05-23T15:25:50.501258Z"
    }
   },
   "outputs": [
    {
     "data": {
      "text/plain": [
       "Connective    165\n",
       "Cancer        120\n",
       "Immune         58\n",
       "Normal         57\n",
       "Name: Type, dtype: int64"
      ]
     },
     "execution_count": 57,
     "metadata": {},
     "output_type": "execute_result"
    }
   ],
   "source": [
    "class_names = ['Cancer', 'Connective', 'Immune', 'Normal']\n",
    "\n",
    "predicts = []\n",
    "with torch.no_grad():\n",
    "    for images,labels in valid_loader:\n",
    "        y_val = cnnModel(images)\n",
    "        val_predict = torch.max(y_val.data, 1)[1]\n",
    "        predicts.append(val_predict)\n",
    "predicts = torch.cat(predicts)\n",
    "id = np.arange(10001, 10401)\n",
    "type = np.array([class_names[i] for i in predicts])\n",
    "dict = {'Id': id, 'Type': type}\n",
    "df = pd.DataFrame(dict)\n",
    "df.to_csv('predicted_test.csv', index=False)\n",
    "\n",
    "df['Type'].value_counts()"
   ]
  }
 ],
 "metadata": {
  "kernelspec": {
   "display_name": "Python 3 (ipykernel)",
   "language": "python",
   "name": "python3"
  },
  "language_info": {
   "codemirror_mode": {
    "name": "ipython",
    "version": 3
   },
   "file_extension": ".py",
   "mimetype": "text/x-python",
   "name": "python",
   "nbconvert_exporter": "python",
   "pygments_lexer": "ipython3",
   "version": "3.9.7"
  }
 },
 "nbformat": 4,
 "nbformat_minor": 4
}
